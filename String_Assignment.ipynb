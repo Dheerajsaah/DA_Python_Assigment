{
  "nbformat": 4,
  "nbformat_minor": 0,
  "metadata": {
    "colab": {
      "provenance": []
    },
    "kernelspec": {
      "name": "python3",
      "display_name": "Python 3"
    },
    "language_info": {
      "name": "python"
    }
  },
  "cells": [
    {
      "cell_type": "code",
      "execution_count": null,
      "metadata": {
        "colab": {
          "base_uri": "https://localhost:8080/"
        },
        "id": "KVqgrq9CzNgT",
        "outputId": "008ea4bf-7658-4a27-921f-6bf09f8e77de"
      },
      "outputs": [
        {
          "output_type": "stream",
          "name": "stdout",
          "text": [
            "the number of charcter in String (Name) is 14\n"
          ]
        }
      ],
      "source": [
        "# Question1___Write a python program to count the number of character in String\n",
        "\n",
        "Name = \"Dheeraj Sahani\"\n",
        "\n",
        "print(\"the number of charcter in String (Name) is\",len(Name))\n"
      ]
    },
    {
      "cell_type": "code",
      "source": [
        "# Question2__Write a python program to reverse a string\n",
        "\n",
        "a = \"Dheeraj Sahani\"\n",
        "\n",
        "print(\"The reverse of the String a is\",a[::-1])"
      ],
      "metadata": {
        "colab": {
          "base_uri": "https://localhost:8080/"
        },
        "id": "c6TZDe5j2FAB",
        "outputId": "9b968df7-071c-429e-dff9-4640f6cfe9e5"
      },
      "execution_count": null,
      "outputs": [
        {
          "output_type": "stream",
          "name": "stdout",
          "text": [
            "The reverse of the String a is inahaS jareehD\n"
          ]
        }
      ]
    },
    {
      "cell_type": "code",
      "source": [
        "# Question3__Write a python program to check if string is palindrome\n",
        "string = \"madam\"\n",
        "rev = string[::-1]\n",
        "if string == rev:\n",
        "      print(rev+ \" is Palindrome\")\n",
        "else:\n",
        "      print(rev+ \"Not palindrome\")\n"
      ],
      "metadata": {
        "colab": {
          "base_uri": "https://localhost:8080/"
        },
        "id": "zM-8gh6jIXw2",
        "outputId": "74730f9c-4881-4758-80b5-be52f3a03e0d"
      },
      "execution_count": 11,
      "outputs": [
        {
          "output_type": "stream",
          "name": "stdout",
          "text": [
            "madam is Palindrome\n"
          ]
        }
      ]
    },
    {
      "cell_type": "code",
      "source": [
        "# Question4__Write a Python program to find the most common character in a string\n"
      ],
      "metadata": {
        "id": "1bprRkJFJaCU"
      },
      "execution_count": null,
      "outputs": []
    },
    {
      "cell_type": "code",
      "source": [
        "# Question5__Write a python program to check if string is anagram\n",
        "\n",
        "String1 = \"Listen\"\n",
        "String2 = \"Silent\"\n",
        "\n",
        "String1 = sorted(String1.lower())\n",
        "string2 = sorted(String2.lower())\n",
        "\n",
        "if String1 == string2:\n",
        "  print(\"string are anagram\")\n",
        "else:\n",
        "  print(\"String are not anagram\")\n",
        "\n"
      ],
      "metadata": {
        "colab": {
          "base_uri": "https://localhost:8080/"
        },
        "id": "FOKpddU9PwjF",
        "outputId": "baaec9df-740c-441f-a329-94189f20d080"
      },
      "execution_count": 13,
      "outputs": [
        {
          "output_type": "stream",
          "name": "stdout",
          "text": [
            "string are anagram\n"
          ]
        }
      ]
    },
    {
      "cell_type": "code",
      "source": [
        "# Write a Python program to remove all the vowels from a string\n",
        "\n",
        "string = \"Dheeraj sahani\"\n",
        "\n",
        "vowels = ['a',\"e\",\"i\",\"o\",\"u\",\"A\",'E','I','O','U']\n",
        "\n",
        "result = \"\"\n",
        "for i in range(len(string)):\n",
        "     if string[i] not in vowels:\n",
        "      result = result + string[i]\n",
        "     print(\"\\nafter removing vowels: \", result)\n",
        ""
      ],
      "metadata": {
        "colab": {
          "base_uri": "https://localhost:8080/"
        },
        "id": "J7sKFXvnZUvr",
        "outputId": "4b1b5dc3-5d1d-44f4-b480-9103b7928ac0"
      },
      "execution_count": 17,
      "outputs": [
        {
          "output_type": "stream",
          "name": "stdout",
          "text": [
            "\n",
            "after removing vowels:  D\n",
            "\n",
            "after removing vowels:  Dh\n",
            "\n",
            "after removing vowels:  Dh\n",
            "\n",
            "after removing vowels:  Dh\n",
            "\n",
            "after removing vowels:  Dhr\n",
            "\n",
            "after removing vowels:  Dhr\n",
            "\n",
            "after removing vowels:  Dhrj\n",
            "\n",
            "after removing vowels:  Dhrj \n",
            "\n",
            "after removing vowels:  Dhrj s\n",
            "\n",
            "after removing vowels:  Dhrj s\n",
            "\n",
            "after removing vowels:  Dhrj sh\n",
            "\n",
            "after removing vowels:  Dhrj sh\n",
            "\n",
            "after removing vowels:  Dhrj shn\n",
            "\n",
            "after removing vowels:  Dhrj shn\n"
          ]
        }
      ]
    },
    {
      "cell_type": "code",
      "source": [],
      "metadata": {
        "id": "gGRiy_2UZUzM"
      },
      "execution_count": null,
      "outputs": []
    }
  ]
}